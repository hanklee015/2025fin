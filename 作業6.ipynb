{
  "nbformat": 4,
  "nbformat_minor": 0,
  "metadata": {
    "colab": {
      "provenance": [],
      "authorship_tag": "ABX9TyN/6hlUvfRbhP27SIGdg5Xn",
      "include_colab_link": true
    },
    "kernelspec": {
      "name": "python3",
      "display_name": "Python 3"
    },
    "language_info": {
      "name": "python"
    }
  },
  "cells": [
    {
      "cell_type": "markdown",
      "metadata": {
        "id": "view-in-github",
        "colab_type": "text"
      },
      "source": [
        "<a href=\"https://colab.research.google.com/github/hanklee015/2025fin/blob/main/%E4%BD%9C%E6%A5%AD6.ipynb\" target=\"_parent\"><img src=\"https://colab.research.google.com/assets/colab-badge.svg\" alt=\"Open In Colab\"/></a>"
      ]
    },
    {
      "cell_type": "code",
      "execution_count": 7,
      "metadata": {
        "colab": {
          "base_uri": "https://localhost:8080/"
        },
        "id": "BJ7pwiqkpObT",
        "outputId": "472400db-f2ab-42da-c00f-d524fc19e71d"
      },
      "outputs": [
        {
          "output_type": "stream",
          "name": "stdout",
          "text": [
            "                         Close                High                 Low  \\\n",
            "Price                                                                    \n",
            "Ticker                 2025.TW             2025.TW             2025.TW   \n",
            "Date                       NaN                 NaN                 NaN   \n",
            "2025-01-02  15.698158264160156  15.714442253112793   14.73737907409668   \n",
            "2025-01-03  15.470174789428711  16.040130615234375  15.144487380981445   \n",
            "2025-01-06  15.225910186767578  15.470174789428711  15.063065528869629   \n",
            "\n",
            "                          Open   Volume  \n",
            "Price                                    \n",
            "Ticker                 2025.TW  2025.TW  \n",
            "Date                       NaN      NaN  \n",
            "2025-01-02  15.193340301513672   514628  \n",
            "2025-01-03  16.040130615234375   292836  \n",
            "2025-01-06  15.242195129394531   281209  \n"
          ]
        }
      ],
      "source": [
        "import pandas as pd\n",
        "url = 'https://raw.githubusercontent.com/hanklee015/2025fin/refs/heads/main/yahoo_2025TW.csv'\n",
        "df = pd.read_csv(url,index_col=0)\n",
        "print(df.head(5))"
      ]
    },
    {
      "cell_type": "code",
      "source": [],
      "metadata": {
        "id": "zWdLodQoqXB-"
      },
      "execution_count": null,
      "outputs": []
    }
  ]
}